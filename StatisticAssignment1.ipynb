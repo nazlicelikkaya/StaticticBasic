{
 "cells": [
  {
   "cell_type": "code",
   "execution_count": 1,
   "id": "2170c7e9-1952-458c-b11a-76d2decbcc96",
   "metadata": {},
   "outputs": [],
   "source": [
    "import numpy as np\n",
    "import pandas as pd\n",
    "import seaborn as sns\n",
    "from scipy import stats\n",
    "import statistics"
   ]
  },
  {
   "cell_type": "code",
   "execution_count": null,
   "id": "2b2d2341",
   "metadata": {},
   "outputs": [],
   "source": [
    "Randomly generate 1,000 samples from the normal distribution using np.random.normal()(mean = 100, standard deviation = 15)\n",
    "\n",
    "np.random.normal(loc=0.0, scale=1.0, size=None) #you need to modify this code.\n",
    "\n",
    "loc will be equal to mean, scale will be equal to std deviation, size will be equal to sample size."
   ]
  },
  {
   "cell_type": "code",
   "execution_count": 2,
   "id": "d021f94e",
   "metadata": {},
   "outputs": [],
   "source": [
    "samples = np.random.normal(loc=100, scale=15, size=1000)"
   ]
  },
  {
   "cell_type": "code",
   "execution_count": null,
   "id": "7b42eeb3",
   "metadata": {},
   "outputs": [],
   "source": [
    "Compute the mean, median, and mode"
   ]
  },
  {
   "cell_type": "code",
   "execution_count": 3,
   "id": "e4953aca",
   "metadata": {},
   "outputs": [
    {
     "name": "stdout",
     "output_type": "stream",
     "text": [
      "Mean value of samples: 100.2810273092652\n",
      "Median value of samples: 100.56507990689948\n",
      "Mode value of samples: ModeResult(mode=array([54.1697717]), count=array([1]))\n"
     ]
    },
    {
     "name": "stderr",
     "output_type": "stream",
     "text": [
      "C:\\Users\\nazli\\AppData\\Local\\Temp\\ipykernel_7444\\1617063908.py:3: FutureWarning: Unlike other reduction functions (e.g. `skew`, `kurtosis`), the default behavior of `mode` typically preserves the axis it acts along. In SciPy 1.11.0, this behavior will change: the default value of `keepdims` will become False, the `axis` over which the statistic is taken will be eliminated, and the value None will no longer be accepted. Set `keepdims` to True or False to avoid this warning.\n",
      "  mode = stats.mode(samples)\n"
     ]
    }
   ],
   "source": [
    "mean = np.mean(samples)\n",
    "median =np.median(samples)\n",
    "mode = stats.mode(samples)\n",
    "\n",
    "print(f\"Mean value of samples: {mean}\")\n",
    "print(f\"Median value of samples: {median}\")\n",
    "print(f\"Mode value of samples: {mode}\")"
   ]
  },
  {
   "cell_type": "code",
   "execution_count": null,
   "id": "4ddebdca",
   "metadata": {},
   "outputs": [],
   "source": [
    "Mean value of samples: 100.07170248861537\n",
    "Median value of samples: 100.02445064865117\n",
    "Mode value of samples: ModeResult(mode=array([41.9474214]), count=array([1]))\n",
    "Compute the min, max, Q1, Q3, and interquartile range"
   ]
  },
  {
   "cell_type": "code",
   "execution_count": 4,
   "id": "6c1d3ebf",
   "metadata": {},
   "outputs": [
    {
     "name": "stdout",
     "output_type": "stream",
     "text": [
      "Min value of samples: 54.16977169677949\n",
      "Max value of samples: 157.3047955691329\n",
      "q1 value of samples: 90.26574809757454\n",
      "q3 value of samples: 110.34350821160879\n",
      "IQR value of samples: 20.07776011403425\n"
     ]
    }
   ],
   "source": [
    "min = min(samples)\n",
    "max = max(samples)\n",
    "q1 = np.percentile(samples, 25)\n",
    "q3 = np.percentile(samples, 75)\n",
    "iqr = q3 - q1\n",
    "\n",
    "print(f\"Min value of samples: {min}\")\n",
    "print(f\"Max value of samples: {max}\")\n",
    "print(f\"q1 value of samples: {q1}\")\n",
    "print(f\"q3 value of samples: {q3}\")\n",
    "print(f\"IQR value of samples: {iqr}\")"
   ]
  },
  {
   "cell_type": "code",
   "execution_count": null,
   "id": "d22913a3",
   "metadata": {},
   "outputs": [],
   "source": [
    "Compute the variance and standard deviation"
   ]
  },
  {
   "cell_type": "code",
   "execution_count": 5,
   "id": "0821b379",
   "metadata": {},
   "outputs": [
    {
     "name": "stdout",
     "output_type": "stream",
     "text": [
      "Variance : 219.73840211613847\n",
      "standeart devision: 14.823575888298292\n"
     ]
    }
   ],
   "source": [
    "variance = statistics.variance(samples)\n",
    "std_dev = statistics.stdev(samples)\n",
    "print(f\"Variance : {variance}\")\n",
    "print(f\"standeart devision: {std_dev}\")"
   ]
  },
  {
   "cell_type": "code",
   "execution_count": 6,
   "id": "db8afb78",
   "metadata": {},
   "outputs": [],
   "source": [
    "#np.std(samples)\n",
    "#np.var(samples)"
   ]
  },
  {
   "cell_type": "code",
   "execution_count": null,
   "id": "677fdd66",
   "metadata": {},
   "outputs": [],
   "source": [
    "Compute the skewness and kurtosis\n",
    "\n",
    "You can use scipy.stats.skew and scipy.stats.kurtosis"
   ]
  },
  {
   "cell_type": "code",
   "execution_count": 8,
   "id": "13318a74",
   "metadata": {},
   "outputs": [
    {
     "name": "stdout",
     "output_type": "stream",
     "text": [
      "Skewness 0.04203971059579237\n",
      "Kurtosis 0.05874828335683446\n"
     ]
    }
   ],
   "source": [
    "skewness = stats.skew(samples)\n",
    "kurtosis = stats.kurtosis(samples)\n",
    "print(\"Skewness\", skewness)\n",
    "print(\"Kurtosis\", kurtosis)"
   ]
  },
  {
   "cell_type": "code",
   "execution_count": null,
   "id": "40cdc13f",
   "metadata": {},
   "outputs": [],
   "source": [
    "NumPy Correlation Calculation"
   ]
  },
  {
   "cell_type": "code",
   "execution_count": 9,
   "id": "5b00b07f",
   "metadata": {},
   "outputs": [
    {
     "data": {
      "text/plain": [
       "array([10, 11, 12, 13, 14, 15, 16, 17, 18, 19])"
      ]
     },
     "execution_count": 9,
     "metadata": {},
     "output_type": "execute_result"
    }
   ],
   "source": [
    "x = np.arange(10,20)\n",
    "x"
   ]
  },
  {
   "cell_type": "code",
   "execution_count": null,
   "id": "5dcafa88",
   "metadata": {},
   "outputs": [],
   "source": [
    "Then use np.array() to create a second array y containing 10 arbitrary integers."
   ]
  },
  {
   "cell_type": "code",
   "execution_count": 10,
   "id": "a41e5980",
   "metadata": {},
   "outputs": [
    {
     "data": {
      "text/plain": [
       "array([ 1,  3,  5,  6,  8,  5,  7,  6,  9, 10])"
      ]
     },
     "execution_count": 10,
     "metadata": {},
     "output_type": "execute_result"
    }
   ],
   "source": [
    "y = np.array([1, 3, 5, 6, 8, 5, 7, 6, 9, 10])\n",
    "y"
   ]
  },
  {
   "cell_type": "code",
   "execution_count": null,
   "id": "4e260987",
   "metadata": {},
   "outputs": [],
   "source": [
    "Once you have two arrays of the same length, you can compute the correlation coefficient between x and y"
   ]
  },
  {
   "cell_type": "code",
   "execution_count": 11,
   "id": "2024a0e2",
   "metadata": {},
   "outputs": [
    {
     "data": {
      "text/plain": [
       "array([[1.        , 0.86732334],\n",
       "       [0.86732334, 1.        ]])"
      ]
     },
     "execution_count": 11,
     "metadata": {},
     "output_type": "execute_result"
    }
   ],
   "source": [
    "r = np.corrcoef(x,y)\n",
    "r"
   ]
  },
  {
   "cell_type": "code",
   "execution_count": null,
   "id": "de53645e",
   "metadata": {},
   "outputs": [],
   "source": [
    "Pandas Correlation Calculation\n"
   ]
  },
  {
   "cell_type": "code",
   "execution_count": 13,
   "id": "5eb8e743",
   "metadata": {},
   "outputs": [],
   "source": [
    "x = pd.Series(range(10, 20))\n",
    "y = pd.Series([2, 1, 4, 5, 8, 12, 18, 25, 96, 48])"
   ]
  },
  {
   "cell_type": "code",
   "execution_count": 14,
   "id": "fa392791",
   "metadata": {},
   "outputs": [
    {
     "data": {
      "text/plain": [
       "PearsonRResult(statistic=0.758640289091187, pvalue=0.010964341301680815)"
      ]
     },
     "execution_count": 14,
     "metadata": {},
     "output_type": "execute_result"
    }
   ],
   "source": [
    "stats.pearsonr(x, y) # Pearson's r"
   ]
  },
  {
   "cell_type": "code",
   "execution_count": 15,
   "id": "68c5564e",
   "metadata": {},
   "outputs": [],
   "source": [
    "from scipy.stats import spearmanr"
   ]
  },
  {
   "cell_type": "code",
   "execution_count": 16,
   "id": "e104c303",
   "metadata": {},
   "outputs": [
    {
     "data": {
      "text/plain": [
       "SpearmanrResult(correlation=0.9757575757575757, pvalue=1.4675461874042197e-06)"
      ]
     },
     "execution_count": 16,
     "metadata": {},
     "output_type": "execute_result"
    }
   ],
   "source": [
    "rho = spearmanr(x, y)\n",
    "rho"
   ]
  },
  {
   "cell_type": "code",
   "execution_count": 17,
   "id": "1b765ec6",
   "metadata": {},
   "outputs": [
    {
     "data": {
      "text/plain": [
       "SpearmanrResult(correlation=0.9757575757575757, pvalue=1.4675461874042197e-06)"
      ]
     },
     "execution_count": 17,
     "metadata": {},
     "output_type": "execute_result"
    }
   ],
   "source": [
    "stats.spearmanr(x, y)   # Spearman's rho"
   ]
  },
  {
   "cell_type": "code",
   "execution_count": null,
   "id": "142b0654",
   "metadata": {},
   "outputs": [],
   "source": [
    "Seaborn Dataset Tips"
   ]
  },
  {
   "cell_type": "code",
   "execution_count": 19,
   "id": "5baaa3cc",
   "metadata": {},
   "outputs": [],
   "source": [
    "import seaborn as sns"
   ]
  },
  {
   "cell_type": "code",
   "execution_count": 20,
   "id": "68f33786",
   "metadata": {},
   "outputs": [],
   "source": [
    "tips = sns.load_dataset(\"tips\")"
   ]
  },
  {
   "cell_type": "code",
   "execution_count": 21,
   "id": "cf5d549b",
   "metadata": {},
   "outputs": [
    {
     "data": {
      "text/html": [
       "<div>\n",
       "<style scoped>\n",
       "    .dataframe tbody tr th:only-of-type {\n",
       "        vertical-align: middle;\n",
       "    }\n",
       "\n",
       "    .dataframe tbody tr th {\n",
       "        vertical-align: top;\n",
       "    }\n",
       "\n",
       "    .dataframe thead th {\n",
       "        text-align: right;\n",
       "    }\n",
       "</style>\n",
       "<table border=\"1\" class=\"dataframe\">\n",
       "  <thead>\n",
       "    <tr style=\"text-align: right;\">\n",
       "      <th></th>\n",
       "      <th>total_bill</th>\n",
       "      <th>tip</th>\n",
       "      <th>sex</th>\n",
       "      <th>smoker</th>\n",
       "      <th>day</th>\n",
       "      <th>time</th>\n",
       "      <th>size</th>\n",
       "    </tr>\n",
       "  </thead>\n",
       "  <tbody>\n",
       "    <tr>\n",
       "      <th>0</th>\n",
       "      <td>13.42</td>\n",
       "      <td>2.0</td>\n",
       "      <td>Male</td>\n",
       "      <td>No</td>\n",
       "      <td>Sat</td>\n",
       "      <td>Dinner</td>\n",
       "      <td>2</td>\n",
       "    </tr>\n",
       "  </tbody>\n",
       "</table>\n",
       "</div>"
      ],
      "text/plain": [
       "   total_bill  tip   sex smoker  day    time  size\n",
       "0       13.42  2.0  Male     No  Sat  Dinner     2"
      ]
     },
     "execution_count": 21,
     "metadata": {},
     "output_type": "execute_result"
    }
   ],
   "source": [
    "tips.mode()"
   ]
  },
  {
   "cell_type": "code",
   "execution_count": 22,
   "id": "0c91e5c1",
   "metadata": {},
   "outputs": [
    {
     "data": {
      "text/plain": [
       "total_bill    17.795\n",
       "tip            2.900\n",
       "size           2.000\n",
       "dtype: float64"
      ]
     },
     "execution_count": 22,
     "metadata": {},
     "output_type": "execute_result"
    }
   ],
   "source": [
    "tips.median(numeric_only= True)"
   ]
  },
  {
   "cell_type": "code",
   "execution_count": 23,
   "id": "b738b61a",
   "metadata": {},
   "outputs": [
    {
     "name": "stderr",
     "output_type": "stream",
     "text": [
      "C:\\Users\\nazli\\AppData\\Local\\Temp\\ipykernel_7444\\341950967.py:1: FutureWarning: The default value of numeric_only in DataFrame.corr is deprecated. In a future version, it will default to False. Select only valid columns or specify the value of numeric_only to silence this warning.\n",
      "  tips.corr(method=\"pearson\")\n"
     ]
    },
    {
     "data": {
      "text/html": [
       "<div>\n",
       "<style scoped>\n",
       "    .dataframe tbody tr th:only-of-type {\n",
       "        vertical-align: middle;\n",
       "    }\n",
       "\n",
       "    .dataframe tbody tr th {\n",
       "        vertical-align: top;\n",
       "    }\n",
       "\n",
       "    .dataframe thead th {\n",
       "        text-align: right;\n",
       "    }\n",
       "</style>\n",
       "<table border=\"1\" class=\"dataframe\">\n",
       "  <thead>\n",
       "    <tr style=\"text-align: right;\">\n",
       "      <th></th>\n",
       "      <th>total_bill</th>\n",
       "      <th>tip</th>\n",
       "      <th>size</th>\n",
       "    </tr>\n",
       "  </thead>\n",
       "  <tbody>\n",
       "    <tr>\n",
       "      <th>total_bill</th>\n",
       "      <td>1.000000</td>\n",
       "      <td>0.675734</td>\n",
       "      <td>0.598315</td>\n",
       "    </tr>\n",
       "    <tr>\n",
       "      <th>tip</th>\n",
       "      <td>0.675734</td>\n",
       "      <td>1.000000</td>\n",
       "      <td>0.489299</td>\n",
       "    </tr>\n",
       "    <tr>\n",
       "      <th>size</th>\n",
       "      <td>0.598315</td>\n",
       "      <td>0.489299</td>\n",
       "      <td>1.000000</td>\n",
       "    </tr>\n",
       "  </tbody>\n",
       "</table>\n",
       "</div>"
      ],
      "text/plain": [
       "            total_bill       tip      size\n",
       "total_bill    1.000000  0.675734  0.598315\n",
       "tip           0.675734  1.000000  0.489299\n",
       "size          0.598315  0.489299  1.000000"
      ]
     },
     "execution_count": 23,
     "metadata": {},
     "output_type": "execute_result"
    }
   ],
   "source": [
    "tips.corr(method=\"pearson\")"
   ]
  },
  {
   "cell_type": "code",
   "execution_count": null,
   "id": "a06f5f3c",
   "metadata": {},
   "outputs": [],
   "source": []
  },
  {
   "cell_type": "code",
   "execution_count": null,
   "id": "474f1733",
   "metadata": {},
   "outputs": [],
   "source": []
  },
  {
   "cell_type": "code",
   "execution_count": null,
   "id": "8308a0da",
   "metadata": {},
   "outputs": [],
   "source": []
  },
  {
   "cell_type": "code",
   "execution_count": null,
   "id": "43305d67",
   "metadata": {},
   "outputs": [],
   "source": []
  }
 ],
 "metadata": {
  "kernelspec": {
   "display_name": "Python 3 (ipykernel)",
   "language": "python",
   "name": "python3"
  },
  "language_info": {
   "codemirror_mode": {
    "name": "ipython",
    "version": 3
   },
   "file_extension": ".py",
   "mimetype": "text/x-python",
   "name": "python",
   "nbconvert_exporter": "python",
   "pygments_lexer": "ipython3",
   "version": "3.10.8"
  }
 },
 "nbformat": 4,
 "nbformat_minor": 5
}
